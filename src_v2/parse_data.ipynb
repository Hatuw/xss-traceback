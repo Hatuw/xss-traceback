{
 "cells": [
  {
   "cell_type": "markdown",
   "metadata": {},
   "source": [
    "# Parse data\n",
    "\n",
    "处理数据：\n",
    "1. 分词\n",
    "2. "
   ]
  },
  {
   "cell_type": "code",
   "execution_count": 1,
   "metadata": {},
   "outputs": [],
   "source": [
    "import os\n",
    "import pandas as pd\n",
    "import matplotlib.pyplot as plt\n",
    "\n",
    "DATA_DIR = '../data'\n",
    "# DATA_FILE = 'mirror.csv'\n",
    "DATA_FILE = 'xss.csv'\n",
    "\n",
    "data_file = os.path.join(DATA_DIR, DATA_FILE)"
   ]
  },
  {
   "cell_type": "code",
   "execution_count": 2,
   "metadata": {},
   "outputs": [
    {
     "data": {
      "text/html": [
       "<div>\n",
       "<style scoped>\n",
       "    .dataframe tbody tr th:only-of-type {\n",
       "        vertical-align: middle;\n",
       "    }\n",
       "\n",
       "    .dataframe tbody tr th {\n",
       "        vertical-align: top;\n",
       "    }\n",
       "\n",
       "    .dataframe thead th {\n",
       "        text-align: right;\n",
       "    }\n",
       "</style>\n",
       "<table border=\"1\" class=\"dataframe\">\n",
       "  <thead>\n",
       "    <tr style=\"text-align: right;\">\n",
       "      <th></th>\n",
       "      <th>Datesubmitted</th>\n",
       "      <th>Datepublished</th>\n",
       "      <th>Status</th>\n",
       "      <th>Author</th>\n",
       "      <th>Domain</th>\n",
       "      <th>Category</th>\n",
       "      <th>Pagerank</th>\n",
       "      <th>URL</th>\n",
       "    </tr>\n",
       "  </thead>\n",
       "  <tbody>\n",
       "    <tr>\n",
       "      <th>0</th>\n",
       "      <td>18/08/2014</td>\n",
       "      <td>13/03/2015</td>\n",
       "      <td>UNFIXED</td>\n",
       "      <td>SquirrelBuddha</td>\n",
       "      <td>webcenters.netscape.compuserve.com</td>\n",
       "      <td>XSS</td>\n",
       "      <td>70880</td>\n",
       "      <td>http://webcenters.netscape.compuserve.com/weat...</td>\n",
       "    </tr>\n",
       "    <tr>\n",
       "      <th>1</th>\n",
       "      <td>05/01/2014</td>\n",
       "      <td>13/03/2015</td>\n",
       "      <td>FIXED</td>\n",
       "      <td>puritys</td>\n",
       "      <td>store.samsung.com</td>\n",
       "      <td>XSS</td>\n",
       "      <td>340</td>\n",
       "      <td>http://store.samsung.com/uk/camera/smart-n2x\"&gt;...</td>\n",
       "    </tr>\n",
       "    <tr>\n",
       "      <th>2</th>\n",
       "      <td>15/11/2013</td>\n",
       "      <td>13/03/2015</td>\n",
       "      <td>FIXED</td>\n",
       "      <td>ArianaGrande</td>\n",
       "      <td>auth.dhs.gov</td>\n",
       "      <td>XSS</td>\n",
       "      <td>4057</td>\n",
       "      <td>https://auth.dhs.gov/oam/hsinlogin/?authn_try_...</td>\n",
       "    </tr>\n",
       "    <tr>\n",
       "      <th>3</th>\n",
       "      <td>06/10/2014</td>\n",
       "      <td>13/03/2015</td>\n",
       "      <td>UNFIXED</td>\n",
       "      <td>MrCyph3r</td>\n",
       "      <td>www.titivillus.it</td>\n",
       "      <td>XSS</td>\n",
       "      <td>11882046</td>\n",
       "      <td>http://www.titivillus.it/periodico.php?id=15%3...</td>\n",
       "    </tr>\n",
       "    <tr>\n",
       "      <th>4</th>\n",
       "      <td>09/08/2012</td>\n",
       "      <td>13/03/2015</td>\n",
       "      <td>FIXED</td>\n",
       "      <td>FabianCuchietti</td>\n",
       "      <td>www.brazzers.com</td>\n",
       "      <td>XSS</td>\n",
       "      <td>1755</td>\n",
       "      <td>http://www.brazzers.com/series/view/episodes/%...</td>\n",
       "    </tr>\n",
       "  </tbody>\n",
       "</table>\n",
       "</div>"
      ],
      "text/plain": [
       "  Datesubmitted Datepublished   Status           Author  \\\n",
       "0    18/08/2014    13/03/2015  UNFIXED   SquirrelBuddha   \n",
       "1    05/01/2014    13/03/2015    FIXED          puritys   \n",
       "2    15/11/2013    13/03/2015    FIXED     ArianaGrande   \n",
       "3    06/10/2014    13/03/2015  UNFIXED         MrCyph3r   \n",
       "4    09/08/2012    13/03/2015    FIXED  FabianCuchietti   \n",
       "\n",
       "                               Domain Category  Pagerank  \\\n",
       "0  webcenters.netscape.compuserve.com      XSS     70880   \n",
       "1                   store.samsung.com      XSS       340   \n",
       "2                        auth.dhs.gov      XSS      4057   \n",
       "3                   www.titivillus.it      XSS  11882046   \n",
       "4                    www.brazzers.com      XSS      1755   \n",
       "\n",
       "                                                 URL  \n",
       "0  http://webcenters.netscape.compuserve.com/weat...  \n",
       "1  http://store.samsung.com/uk/camera/smart-n2x\">...  \n",
       "2  https://auth.dhs.gov/oam/hsinlogin/?authn_try_...  \n",
       "3  http://www.titivillus.it/periodico.php?id=15%3...  \n",
       "4  http://www.brazzers.com/series/view/episodes/%...  "
      ]
     },
     "execution_count": 2,
     "metadata": {},
     "output_type": "execute_result"
    }
   ],
   "source": [
    "data = pd.read_csv(data_file)\n",
    "data.head()"
   ]
  },
  {
   "cell_type": "markdown",
   "metadata": {},
   "source": [
    "取出5条url分析"
   ]
  },
  {
   "cell_type": "code",
   "execution_count": 46,
   "metadata": {},
   "outputs": [
    {
     "name": "stdout",
     "output_type": "stream",
     "text": [
      "http://webcenters.netscape.compuserve.com/weather/find.jsp?f=\"><script>alert(1)</script>\n",
      "------------------------------------------------------------------------------------------------------------------------\n",
      "http://store.samsung.com/uk/camera/smart-n2x\"><script>alert(document.cookie)</script></nx1010-smart-camera/p/ED-LF52PL\n",
      "------------------------------------------------------------------------------------------------------------------------\n",
      "https://auth.dhs.gov/oam/hsinlogin/?authn_try_count=0&contextType=external&username=string&ssoCookie:max-age=3600&contextValue=%2Foam&password=sercure_string&challenge_url=%2Fhsinlogin&ssoCookie=max-age%3D3600&request_id=%27%22--%3E%3Cmarquee%3E%3Ccenter%3E%3C%2Fimg%3E%3Cbr%3E+%3Cbr%3E%3Cscript%3Ealert%28document.cookie%29;%3C/script%3E\n",
      "------------------------------------------------------------------------------------------------------------------------\n",
      "http://www.titivillus.it/periodico.php?id=15%3Cscript%3Ealert%28document.cookie%29%3C/script%3E\n",
      "------------------------------------------------------------------------------------------------------------------------\n",
      "http://www.brazzers.com/series/view/episodes/%22%20onmouseover%3dprompt%28%27XSS%27%29%20bad%3d%22/id/5546/bonus-episode-more-bang-for-your-buck/\n",
      "------------------------------------------------------------------------------------------------------------------------\n"
     ]
    }
   ],
   "source": [
    "urls = data['URL'][0:5].tolist()\n",
    "for url in urls:\n",
    "    print(url, end='\\n{}\\n'.format('-'*120))"
   ]
  },
  {
   "cell_type": "markdown",
   "metadata": {},
   "source": [
    "去除domain和路径信息"
   ]
  },
  {
   "cell_type": "code",
   "execution_count": 54,
   "metadata": {},
   "outputs": [
    {
     "name": "stdout",
     "output_type": "stream",
     "text": [
      "http://webcenters.netscape.compuserve.com/weather/find.jsp?f=\"><script>alert(1)</script>\n",
      "=> find.jsp?f=\"><script>alert(1)</script>\n",
      "------------------------------------------------------------------------------------------------------------------------\n",
      "http://store.samsung.com/uk/camera/smart-n2x\"><script>alert(document.cookie)</script></nx1010-smart-camera/p/ED-LF52PL\n",
      "=> smart-n2x\"><script>alert(document.cookie)</script></nx1010-smart-camera/p/ED-LF52PL\n",
      "------------------------------------------------------------------------------------------------------------------------\n",
      "https://auth.dhs.gov/oam/hsinlogin/?authn_try_count=0&contextType=external&username=string&ssoCookie:max-age=3600&contextValue=%2Foam&password=sercure_string&challenge_url=%2Fhsinlogin&ssoCookie=max-age%3D3600&request_id=%27%22--%3E%3Cmarquee%3E%3Ccenter%3E%3C%2Fimg%3E%3Cbr%3E+%3Cbr%3E%3Cscript%3Ealert%28document.cookie%29;%3C/script%3E\n",
      "=> ?authn_try_count=0&contextType=external&username=string&ssoCookie:max-age=3600&contextValue=%2Foam&password=sercure_string&challenge_url=%2Fhsinlogin&ssoCookie=max-age%3D3600&request_id=%27%22--%3E%3Cmarquee%3E%3Ccenter%3E%3C%2Fimg%3E%3Cbr%3E+%3Cbr%3E%3Cscript%3Ealert%28document.cookie%29;%3C/script%3E\n",
      "------------------------------------------------------------------------------------------------------------------------\n",
      "http://www.titivillus.it/periodico.php?id=15%3Cscript%3Ealert%28document.cookie%29%3C/script%3E\n",
      "=> periodico.php?id=15%3Cscript%3Ealert%28document.cookie%29%3C/script%3E\n",
      "------------------------------------------------------------------------------------------------------------------------\n",
      "http://www.brazzers.com/series/view/episodes/%22%20onmouseover%3dprompt%28%27XSS%27%29%20bad%3d%22/id/5546/bonus-episode-more-bang-for-your-buck/\n",
      "=> %22%20onmouseover%3dprompt%28%27XSS%27%29%20bad%3d%22/id/5546/bonus-episode-more-bang-for-your-buck/\n",
      "------------------------------------------------------------------------------------------------------------------------\n"
     ]
    }
   ],
   "source": [
    "import re\n",
    "def remove_domain(url):\n",
    "    res = re.findall(r'http[s]?://([a-z0-9\\.]+/)+(.+)', url)\n",
    "    if res:\n",
    "        return res[0][1]\n",
    "    \n",
    "    return []\n",
    "\n",
    "uris = []\n",
    "for url in urls:\n",
    "    tmp_uri = remove_domain(url)\n",
    "    uris.append(tmp_uri)\n",
    "    print('{}\\n=> {}'.format(url, tmp_uri), end='\\n{}\\n'.format('-'*120))"
   ]
  },
  {
   "cell_type": "markdown",
   "metadata": {},
   "source": [
    "将去除后的信息进行分词"
   ]
  },
  {
   "cell_type": "code",
   "execution_count": 81,
   "metadata": {
    "code_folding": []
   },
   "outputs": [
    {
     "name": "stdout",
     "output_type": "stream",
     "text": [
      "['f', '=', '\"', '>', '<', 'script', '>', 'alert', '(', '1', ')', '<', '/', 'script', '>']\n",
      "['smart', '-', 'n2x', '\"', '>', '<', 'script', '>', 'alert', '(', 'document', '.', 'cookie', ')', '<', '/', 'script', '>', '<', '/', 'nx1010', '-', 'smart', '-', 'camera', '/', 'p', '/', 'ed', '-', 'lf52pl']\n",
      "['authn_try_count', '=', '0', '&', 'contexttype', '=', 'external', '&', 'username', '=', 'string', '&', 'ssocookie', ':', 'max', '-', 'age', '=', '3600', '&', 'contextvalue', '=', '%2f', 'oam', '&', 'password', '=', 'sercure_string', '&', 'challenge_url', '=', '%2f', 'hsinlogin', '&', 'ssocookie', '=', 'max', '-', 'age', '%3d', '3600', '&', 'request_id', '=', '%27', '%22', '-', '-', '%3e', '%3c', 'marquee', '%3e', '%3c', 'center', '%3e', '%3c', '%2f', 'img', '%3e', '%3c', 'br', '%3e', '+', '%3c', 'br', '%3e', '%3c', 'script', '%3e', 'alert', '%28', 'document', '.', 'cookie', '%29', ';', '%3c', '/', 'script', '%3e']\n",
      "['id', '=', '15', '%3c', 'script', '%3e', 'alert', '%28', 'document', '.', 'cookie', '%29', '%3c', '/', 'script', '%3e']\n",
      "['%22', '%20', 'onmouseover', '%3d', 'prompt', '%28', '%27', 'xss', '%27', '%29', '%20', 'bad', '%3d', '%22', '/', 'id', '/', '5546', '/', 'bonus', '-', 'episode', '-', 'more', '-', 'bang', '-', 'for', '-', 'your', '-', 'buck', '/']\n"
     ]
    }
   ],
   "source": [
    "from urllib import parse\n",
    "def split_word(sentence):\n",
    "    \"\"\"根据标点符号对句子进行分词\n",
    "    \"\"\"\n",
    "    # 返回query, 如果query为空，则返回path\n",
    "    # 去掉资源定位\n",
    "    parse_res = parse.urlparse(sentence)\n",
    "    res = parse_res.query if parse_res.query else parse_res.path\n",
    "    # res = parse.parse_qs(res)\n",
    "    \n",
    "    # 使用url encode后的符号作为分隔符(%xx)\n",
    "    sentences = [item.lower() for item in re.split(r'(%\\w{2})', res) if item]\n",
    "    \n",
    "    # 提取\n",
    "    words = []\n",
    "    for st in sentences:\n",
    "        if not re.match(r'%\\w{2}', st):\n",
    "            for re_res in re.split(r'(\\W)', st):\n",
    "                if re_res:\n",
    "                    words.append(re_res)\n",
    "        else:\n",
    "            words.append(st)\n",
    "    return words\n",
    "\n",
    "for uri in uris:\n",
    "    tmp_words = split_word(uri)\n",
    "    print(tmp_words)"
   ]
  },
  {
   "cell_type": "markdown",
   "metadata": {},
   "source": [
    "词频统计，将单词编码为数字"
   ]
  },
  {
   "cell_type": "code",
   "execution_count": null,
   "metadata": {},
   "outputs": [],
   "source": []
  }
 ],
 "metadata": {
  "kernelspec": {
   "display_name": "Python 3",
   "language": "python",
   "name": "python3"
  },
  "language_info": {
   "codemirror_mode": {
    "name": "ipython",
    "version": 3
   },
   "file_extension": ".py",
   "mimetype": "text/x-python",
   "name": "python",
   "nbconvert_exporter": "python",
   "pygments_lexer": "ipython3",
   "version": "3.7.3"
  }
 },
 "nbformat": 4,
 "nbformat_minor": 2
}
